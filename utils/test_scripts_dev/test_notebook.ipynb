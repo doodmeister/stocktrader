{
 "cells": [
  {
   "cell_type": "code",
   "execution_count": 4,
   "id": "4cd88523",
   "metadata": {},
   "outputs": [
    {
     "name": "stdout",
     "output_type": "stream",
     "text": [
      "Fetching MSFT from 2025-05-05 to 2025-05-06 (5m)…\n",
      "\n",
      "Sample of the DataFrame (now in ET):\n",
      "                           Open        High         Low       Close  \\\n",
      "Datetime                                                              \n",
      "2025-05-05 09:30:00  432.756989  435.149994  432.113007  434.765015   \n",
      "2025-05-05 09:35:00  434.682892  435.679993  434.411987  434.894989   \n",
      "2025-05-05 09:40:00  434.899994  435.379913  434.059998  435.379913   \n",
      "2025-05-05 09:45:00  435.339996  436.119995  435.230011  435.510010   \n",
      "2025-05-05 09:50:00  435.869995  436.299988  435.222595  436.290802   \n",
      "\n",
      "                      Adj Close   Volume  Dividends  Stock Splits  \n",
      "Datetime                                                           \n",
      "2025-05-05 09:30:00  434.765015  1222159        0.0           0.0  \n",
      "2025-05-05 09:35:00  434.894989   320186        0.0           0.0  \n",
      "2025-05-05 09:40:00  435.379913   228108        0.0           0.0  \n",
      "2025-05-05 09:45:00  435.510010   249768        0.0           0.0  \n",
      "2025-05-05 09:50:00  436.290802   228915        0.0           0.0  \n",
      "…\n",
      "                           Open        High         Low       Close  \\\n",
      "Datetime                                                              \n",
      "2025-05-05 15:35:00  436.859985  437.670013  436.825287  437.470001   \n",
      "2025-05-05 15:40:00  437.470001  437.579987  436.829987  437.029999   \n",
      "2025-05-05 15:45:00  437.059998  437.070007  436.500000  436.595001   \n",
      "2025-05-05 15:50:00  436.589996  436.760010  435.100006  435.470001   \n",
      "2025-05-05 15:55:00  435.440002  436.369995  435.410004  436.019989   \n",
      "\n",
      "                      Adj Close  Volume  Dividends  Stock Splits  \n",
      "Datetime                                                          \n",
      "2025-05-05 15:35:00  437.470001  154531        0.0           0.0  \n",
      "2025-05-05 15:40:00  437.029999  135603        0.0           0.0  \n",
      "2025-05-05 15:45:00  436.595001  202372        0.0           0.0  \n",
      "2025-05-05 15:50:00  435.470001  367942        0.0           0.0  \n",
      "2025-05-05 15:55:00  436.019989  904793        0.0           0.0  \n",
      "\n",
      "Bar at 2025-05-05 12:45:00 ET:\n",
      "  Open:   439.07000732\n",
      "  High:   439.32998657\n",
      "  Low:    438.92999268\n",
      "  Close:  439.29000854\n",
      "  Volume: 134427\n"
     ]
    }
   ],
   "source": [
    "# test_yahoo_fetch_msft.py\n",
    "\n",
    "import yfinance as yf\n",
    "import pandas as pd\n",
    "\n",
    "# 1) Parameters\n",
    "symbol     = \"MSFT\"\n",
    "start_date = \"2025-05-05\"\n",
    "end_date   = \"2025-05-06\"   # we want the full trading day of May 5\n",
    "interval   = \"5m\"           # 5-minute bars\n",
    "\n",
    "print(f\"Fetching {symbol} from {start_date} to {end_date} ({interval})…\")\n",
    "\n",
    "# 2) Use Ticker.history to avoid the extra MultiIndex header\n",
    "ticker = yf.Ticker(symbol)\n",
    "df = ticker.history(\n",
    "    start=start_date,\n",
    "    end=end_date,\n",
    "    interval=interval,\n",
    "    auto_adjust=False,\n",
    "    prepost=False \n",
    ")\n",
    "\n",
    "# 3) Convert timestamps from UTC → US/Eastern, then drop tzinfo\n",
    "if df.index.tz is not None:\n",
    "    df.index = df.index.tz_convert(\"America/New_York\").tz_localize(None)\n",
    "\n",
    "print(\"\\nSample of the DataFrame (now in ET):\")\n",
    "print(df.iloc[:5])\n",
    "print(\"…\")\n",
    "print(df.iloc[-5:])\n",
    "\n",
    "# 4) Isolate the 12:45pm bar in Eastern Time\n",
    "target = pd.to_datetime(\"2025-05-05 12:45:00\")\n",
    "if target in df.index:\n",
    "    bar = df.loc[target]\n",
    "    print(f\"\\nBar at {target} ET:\")\n",
    "    print(f\"  Open:   {bar['Open']:.8f}\")\n",
    "    print(f\"  High:   {bar['High']:.8f}\")\n",
    "    print(f\"  Low:    {bar['Low']:.8f}\")\n",
    "    print(f\"  Close:  {bar['Close']:.8f}\")\n",
    "    print(f\"  Volume: {int(bar['Volume'])}\")\n",
    "else:\n",
    "    print(f\"\\nNo bar found at {target} ET. Available times:\\n\", df.index.tolist())\n"
   ]
  },
  {
   "cell_type": "markdown",
   "id": "c691d6bf",
   "metadata": {},
   "source": [
    "2025-05-05 12:45:00,439.0700073…,439.3299865…,438.9299926…,439.2900085…,134427"
   ]
  }
 ],
 "metadata": {
  "kernelspec": {
   "display_name": ".venv",
   "language": "python",
   "name": "python3"
  },
  "language_info": {
   "codemirror_mode": {
    "name": "ipython",
    "version": 3
   },
   "file_extension": ".py",
   "mimetype": "text/x-python",
   "name": "python",
   "nbconvert_exporter": "python",
   "pygments_lexer": "ipython3",
   "version": "3.10.11"
  }
 },
 "nbformat": 4,
 "nbformat_minor": 5
}
